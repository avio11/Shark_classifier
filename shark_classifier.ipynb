{
 "cells": [
  {
   "cell_type": "code",
   "execution_count": null,
   "metadata": {},
   "outputs": [],
   "source": [
    "## Uncomment if running on colab platform\n",
    "\n",
    "# from google.colab import drive\n",
    "# drive.mount('/content/drive')\n",
    "\n",
    "\n",
    "## Uncomment if running in notebook\n",
    "# !pip install fastai2\n",
    "# %cd 'course-v4/nbs'\n",
    "# !pip install fastai2>=0.0.11 graphviz ipywidgets matplotlib nbdev>=0.2.12 pandas scikit_learn azure-cognitiveservices-search-imagesearch sentencepiece"
   ]
  },
  {
   "cell_type": "code",
   "execution_count": null,
   "metadata": {},
   "outputs": [],
   "source": [
    "#hide\n",
    "from utils import *\n",
    "#from fastai2.vision.widgets import *\n",
    "import ipywidgets as widgets\n",
    "from pathlib import *"
   ]
  },
  {
   "cell_type": "code",
   "execution_count": null,
   "metadata": {},
   "outputs": [],
   "source": [
    "## Uncomment if using notebook to create application with github+binder\n",
    "path = Path()\n",
    "\n",
    "## Ucomment if running notebook on paperspace\n",
    "# path = Path('/storage')\n",
    "\n",
    "## Uncomment if running notebook on google colab\n",
    "# path = Path('/content/drive/My Drive/fastAI_models')\n",
    "\n",
    "learn_inf = load_learner(path/'sharks.pkl')\n",
    "# learn_inf = load_learner('sharks.pkl')"
   ]
  },
  {
   "cell_type": "code",
   "execution_count": null,
   "metadata": {},
   "outputs": [],
   "source": [
    "# Layout for the widget buttons, outputs and labels\n",
    "box_layout = Layout(display='flex',\n",
    "                    margin='auto',\n",
    "                    flex_flow='colunm',\n",
    "                    align_items='stretch',\n",
    "                    )\n",
    "button_layout = Layout(margin='auto',)"
   ]
  },
  {
   "cell_type": "code",
   "execution_count": null,
   "metadata": {},
   "outputs": [],
   "source": [
    "btn_upload = widgets.FileUpload(layout = button_layout)\n",
    "btn_run = widgets.Button(description='Classify', layout = button_layout)\n",
    "out_pl = widgets.Output(layout = button_layout)\n",
    "lbl_pred = widgets.Label(layout = button_layout)\n",
    "lbl_menu = widgets.Label('Upload your shark picture', layout = button_layout)\n",
    "def on_click_classify(change):\n",
    "    if(len(btn_upload.value)==0):\n",
    "        lbl_pred.value = 'No file uploaded'\n",
    "        return\n",
    "    img = PILImage.create(btn_upload.data[-1])\n",
    "    out_pl.clear_output()\n",
    "    with out_pl: display(img.to_thumb(128,128))\n",
    "    pred,pred_idx,probs = learn_inf.predict(img)\n",
    "    lbl_pred.value = f'Prediction: {pred}; Probability: {probs[pred_idx]:0.04f}'\n",
    "    "
   ]
  },
  {
   "cell_type": "code",
   "execution_count": null,
   "metadata": {},
   "outputs": [],
   "source": [
    "btn_run.on_click(on_click_classify)\n",
    "\n",
    "VBox([lbl_menu, \n",
    "      btn_upload, btn_run, out_pl, lbl_pred], layout=box_layout)"
   ]
  },
  {
   "cell_type": "code",
   "execution_count": null,
   "metadata": {},
   "outputs": [],
   "source": []
  }
 ],
 "metadata": {
  "kernelspec": {
   "display_name": "Python 3",
   "language": "python",
   "name": "python3"
  },
  "language_info": {
   "codemirror_mode": {
    "name": "ipython",
    "version": 3
   },
   "file_extension": ".py",
   "mimetype": "text/x-python",
   "name": "python",
   "nbconvert_exporter": "python",
   "pygments_lexer": "ipython3",
   "version": "3.7.6"
  }
 },
 "nbformat": 4,
 "nbformat_minor": 4
}
