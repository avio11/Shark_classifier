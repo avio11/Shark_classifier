{
 "cells": [
  {
   "cell_type": "code",
   "execution_count": 1,
   "metadata": {
    "collapsed": true
   },
   "outputs": [
    {
     "name": "stdout",
     "output_type": "stream",
     "text": [
      "Requirement already satisfied: fastai2 in /opt/conda/envs/fastai/lib/python3.7/site-packages (0.0.12)\n",
      "Requirement already satisfied: torch>=1.3.0 in /opt/conda/envs/fastai/lib/python3.7/site-packages (from fastai2) (1.4.0)\n",
      "Requirement already satisfied: spacy in /opt/conda/envs/fastai/lib/python3.7/site-packages (from fastai2) (2.2.3)\n",
      "Requirement already satisfied: matplotlib in /opt/conda/envs/fastai/lib/python3.7/site-packages (from fastai2) (3.2.0)\n",
      "Requirement already satisfied: pillow in /opt/conda/envs/fastai/lib/python3.7/site-packages (from fastai2) (7.0.0)\n",
      "Requirement already satisfied: scikit-learn in /opt/conda/envs/fastai/lib/python3.7/site-packages (from fastai2) (0.22.2.post1)\n",
      "Requirement already satisfied: fastcore in /opt/conda/envs/fastai/lib/python3.7/site-packages (from fastai2) (0.1.15)\n",
      "Requirement already satisfied: fastprogress>=0.1.22 in /opt/conda/envs/fastai/lib/python3.7/site-packages (from fastai2) (0.2.2)\n",
      "Requirement already satisfied: scipy in /opt/conda/envs/fastai/lib/python3.7/site-packages (from fastai2) (1.4.1)\n",
      "Requirement already satisfied: requests in /opt/conda/envs/fastai/lib/python3.7/site-packages (from fastai2) (2.23.0)\n",
      "Requirement already satisfied: pyyaml in /opt/conda/envs/fastai/lib/python3.7/site-packages (from fastai2) (5.3)\n",
      "Requirement already satisfied: pandas in /opt/conda/envs/fastai/lib/python3.7/site-packages (from fastai2) (1.0.2)\n",
      "Requirement already satisfied: torchvision>=0.5 in /opt/conda/envs/fastai/lib/python3.7/site-packages (from fastai2) (0.5.0)\n",
      "Requirement already satisfied: wasabi<1.1.0,>=0.4.0 in /opt/conda/envs/fastai/lib/python3.7/site-packages (from spacy->fastai2) (0.6.0)\n",
      "Requirement already satisfied: catalogue<1.1.0,>=0.0.7 in /opt/conda/envs/fastai/lib/python3.7/site-packages (from spacy->fastai2) (1.0.0)\n",
      "Requirement already satisfied: preshed<3.1.0,>=3.0.2 in /opt/conda/envs/fastai/lib/python3.7/site-packages (from spacy->fastai2) (3.0.2)\n",
      "Requirement already satisfied: numpy>=1.15.0 in /opt/conda/envs/fastai/lib/python3.7/site-packages (from spacy->fastai2) (1.18.1)\n",
      "Requirement already satisfied: setuptools in /opt/conda/envs/fastai/lib/python3.7/site-packages (from spacy->fastai2) (46.0.0.post20200311)\n",
      "Requirement already satisfied: thinc<7.4.0,>=7.3.0 in /opt/conda/envs/fastai/lib/python3.7/site-packages (from spacy->fastai2) (7.3.0)\n",
      "Requirement already satisfied: cymem<2.1.0,>=2.0.2 in /opt/conda/envs/fastai/lib/python3.7/site-packages (from spacy->fastai2) (2.0.3)\n",
      "Requirement already satisfied: plac<1.2.0,>=0.9.6 in /opt/conda/envs/fastai/lib/python3.7/site-packages (from spacy->fastai2) (0.9.6)\n",
      "Requirement already satisfied: srsly<1.1.0,>=0.1.0 in /opt/conda/envs/fastai/lib/python3.7/site-packages (from spacy->fastai2) (1.0.0)\n",
      "Requirement already satisfied: blis<0.5.0,>=0.4.0 in /opt/conda/envs/fastai/lib/python3.7/site-packages (from spacy->fastai2) (0.4.1)\n",
      "Requirement already satisfied: murmurhash<1.1.0,>=0.28.0 in /opt/conda/envs/fastai/lib/python3.7/site-packages (from spacy->fastai2) (1.0.0)\n",
      "Requirement already satisfied: python-dateutil>=2.1 in /opt/conda/envs/fastai/lib/python3.7/site-packages (from matplotlib->fastai2) (2.8.1)\n",
      "Requirement already satisfied: cycler>=0.10 in /opt/conda/envs/fastai/lib/python3.7/site-packages (from matplotlib->fastai2) (0.10.0)\n",
      "Requirement already satisfied: kiwisolver>=1.0.1 in /opt/conda/envs/fastai/lib/python3.7/site-packages (from matplotlib->fastai2) (1.1.0)\n",
      "Requirement already satisfied: pyparsing!=2.0.4,!=2.1.2,!=2.1.6,>=2.0.1 in /opt/conda/envs/fastai/lib/python3.7/site-packages (from matplotlib->fastai2) (2.4.6)\n",
      "Requirement already satisfied: joblib>=0.11 in /opt/conda/envs/fastai/lib/python3.7/site-packages (from scikit-learn->fastai2) (0.14.1)\n",
      "Requirement already satisfied: certifi>=2017.4.17 in /opt/conda/envs/fastai/lib/python3.7/site-packages (from requests->fastai2) (2019.11.28)\n",
      "Requirement already satisfied: chardet<4,>=3.0.2 in /opt/conda/envs/fastai/lib/python3.7/site-packages (from requests->fastai2) (3.0.4)\n",
      "Requirement already satisfied: urllib3!=1.25.0,!=1.25.1,<1.26,>=1.21.1 in /opt/conda/envs/fastai/lib/python3.7/site-packages (from requests->fastai2) (1.25.7)\n",
      "Requirement already satisfied: idna<3,>=2.5 in /opt/conda/envs/fastai/lib/python3.7/site-packages (from requests->fastai2) (2.9)\n",
      "Requirement already satisfied: pytz>=2017.2 in /opt/conda/envs/fastai/lib/python3.7/site-packages (from pandas->fastai2) (2019.3)\n",
      "Requirement already satisfied: six in /opt/conda/envs/fastai/lib/python3.7/site-packages (from torchvision>=0.5->fastai2) (1.14.0)\n",
      "Requirement already satisfied: importlib-metadata>=0.20; python_version < \"3.8\" in /opt/conda/envs/fastai/lib/python3.7/site-packages (from catalogue<1.1.0,>=0.0.7->spacy->fastai2) (1.5.0)\n",
      "Requirement already satisfied: tqdm<5.0.0,>=4.10.0 in /opt/conda/envs/fastai/lib/python3.7/site-packages (from thinc<7.4.0,>=7.3.0->spacy->fastai2) (4.43.0)\n",
      "Requirement already satisfied: zipp>=0.5 in /opt/conda/envs/fastai/lib/python3.7/site-packages (from importlib-metadata>=0.20; python_version < \"3.8\"->catalogue<1.1.0,>=0.0.7->spacy->fastai2) (3.1.0)\n",
      "/notebooks/course-v4/nbs\n"
     ]
    }
   ],
   "source": [
    "## Uncomment if running on colab platform\n",
    "\n",
    "# from google.colab import drive\n",
    "# drive.mount('/content/drive')\n",
    "\n",
    "\n",
    "## Uncomment if running in notebook\n",
    "# !pip install fastai2\n",
    "# %cd 'course-v4/nbs'\n",
    "# !pip install fastai2>=0.0.11 graphviz ipywidgets matplotlib nbdev>=0.2.12 pandas scikit_learn azure-cognitiveservices-search-imagesearch sentencepiece"
   ]
  },
  {
   "cell_type": "code",
   "execution_count": 2,
   "metadata": {},
   "outputs": [],
   "source": [
    "#hide\n",
    "from utils import *\n",
    "from fastai2.vision.widgets import *\n",
    "import ipywidgets as widgets"
   ]
  },
  {
   "cell_type": "code",
   "execution_count": 24,
   "metadata": {},
   "outputs": [],
   "source": [
    "## Uncomment if using notebook to create application with github+binder\n",
    "path = Path()\n",
    "\n",
    "## Ucomment if running notebook on paperspace\n",
    "# path = Path('/storage')\n",
    "\n",
    "## Uncomment if running notebook on google colab\n",
    "# path = Path('/content/drive/My Drive/fastAI_models')\n",
    "\n",
    "learn_inf = load_learner(path/'sharks.pkl')"
   ]
  },
  {
   "cell_type": "code",
   "execution_count": 22,
   "metadata": {},
   "outputs": [],
   "source": [
    "btn_upload = widgets.FileUpload()\n",
    "btn_run = widgets.Button(description='Classify')\n",
    "out_pl = widgets.Output()\n",
    "lbl_pred = widgets.Label()\n",
    "\n",
    "def on_click_classify(change):\n",
    "    if(len(btn_upload.value)==0):\n",
    "        lbl_pred.value = 'No file uploaded'\n",
    "        return\n",
    "    img = PILImage.create(btn_upload.data[-1])\n",
    "    out_pl.clear_output()\n",
    "    with out_pl: display(img.to_thumb(128,128))\n",
    "    pred,pred_idx,probs = learn_inf.predict(img)\n",
    "    lbl_pred.value = f'Prediction: {pred}; Probability: {probs[pred_idx]:0.04f}'"
   ]
  },
  {
   "cell_type": "code",
   "execution_count": 23,
   "metadata": {},
   "outputs": [
    {
     "data": {
      "application/vnd.jupyter.widget-view+json": {
       "model_id": "3474a6afeed44806b2e59c3a1fbeb4af",
       "version_major": 2,
       "version_minor": 0
      },
      "text/plain": [
       "VBox(children=(Label(value='Upload your shark picture!'), FileUpload(value={}, description='Upload'), Button(d…"
      ]
     },
     "metadata": {},
     "output_type": "display_data"
    },
    {
     "data": {
      "text/html": [],
      "text/plain": [
       "<IPython.core.display.HTML object>"
      ]
     },
     "metadata": {},
     "output_type": "display_data"
    }
   ],
   "source": [
    "btn_run.on_click(on_click_classify)\n",
    "\n",
    "VBox([widgets.Label('Upload your shark picture!'), \n",
    "      btn_upload, btn_run, out_pl, lbl_pred])"
   ]
  },
  {
   "cell_type": "code",
   "execution_count": null,
   "metadata": {},
   "outputs": [],
   "source": []
  }
 ],
 "metadata": {
  "kernelspec": {
   "display_name": "Python 3",
   "language": "python",
   "name": "python3"
  },
  "language_info": {
   "codemirror_mode": {
    "name": "ipython",
    "version": 3
   },
   "file_extension": ".py",
   "mimetype": "text/x-python",
   "name": "python",
   "nbconvert_exporter": "python",
   "pygments_lexer": "ipython3",
   "version": "3.7.6"
  }
 },
 "nbformat": 4,
 "nbformat_minor": 4
}
